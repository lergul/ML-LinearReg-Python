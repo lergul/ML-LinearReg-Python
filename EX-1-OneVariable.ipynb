{
 "cells": [
  {
   "cell_type": "markdown",
   "metadata": {},
   "source": [
    "## Linear Regression Problem"
   ]
  },
  {
   "cell_type": "markdown",
   "metadata": {},
   "source": [
    "#### Information\n",
    "Firt of all we'll upload data and giving the names columns "
   ]
  },
  {
   "cell_type": "code",
   "execution_count": 33,
   "metadata": {},
   "outputs": [],
   "source": [
    "#Upload some usefull python functions\n",
    "\n",
    "import pandas as pd\n",
    "import numpy as np\n",
    "\n",
    "import matplotlib.pyplot as plt\n",
    "import seaborn as sns\n"
   ]
  },
  {
   "cell_type": "code",
   "execution_count": 34,
   "metadata": {},
   "outputs": [
    {
     "data": {
      "text/html": [
       "<div>\n",
       "<style scoped>\n",
       "    .dataframe tbody tr th:only-of-type {\n",
       "        vertical-align: middle;\n",
       "    }\n",
       "\n",
       "    .dataframe tbody tr th {\n",
       "        vertical-align: top;\n",
       "    }\n",
       "\n",
       "    .dataframe thead th {\n",
       "        text-align: right;\n",
       "    }\n",
       "</style>\n",
       "<table border=\"1\" class=\"dataframe\">\n",
       "  <thead>\n",
       "    <tr style=\"text-align: right;\">\n",
       "      <th></th>\n",
       "      <th>Population</th>\n",
       "      <th>Profit</th>\n",
       "    </tr>\n",
       "  </thead>\n",
       "  <tbody>\n",
       "    <tr>\n",
       "      <th>0</th>\n",
       "      <td>6.1101</td>\n",
       "      <td>17.5920</td>\n",
       "    </tr>\n",
       "    <tr>\n",
       "      <th>1</th>\n",
       "      <td>5.5277</td>\n",
       "      <td>9.1302</td>\n",
       "    </tr>\n",
       "    <tr>\n",
       "      <th>2</th>\n",
       "      <td>8.5186</td>\n",
       "      <td>13.6620</td>\n",
       "    </tr>\n",
       "    <tr>\n",
       "      <th>3</th>\n",
       "      <td>7.0032</td>\n",
       "      <td>11.8540</td>\n",
       "    </tr>\n",
       "    <tr>\n",
       "      <th>4</th>\n",
       "      <td>5.8598</td>\n",
       "      <td>6.8233</td>\n",
       "    </tr>\n",
       "  </tbody>\n",
       "</table>\n",
       "</div>"
      ],
      "text/plain": [
       "   Population   Profit\n",
       "0      6.1101  17.5920\n",
       "1      5.5277   9.1302\n",
       "2      8.5186  13.6620\n",
       "3      7.0032  11.8540\n",
       "4      5.8598   6.8233"
      ]
     },
     "execution_count": 34,
     "metadata": {},
     "output_type": "execute_result"
    }
   ],
   "source": [
    "## read data and load\n",
    "data = pd.read_csv('ex1data1.txt', names=['Population', 'Profit'])\n",
    "data.head()"
   ]
  },
  {
   "cell_type": "code",
   "execution_count": 35,
   "metadata": {},
   "outputs": [],
   "source": [
    "X = data[\"Population\"].values\n",
    "Y = data[\"Profit\"].values\n",
    "theta = np.zeros((2,1)) #initial values\n",
    "m=len(Y)"
   ]
  },
  {
   "cell_type": "code",
   "execution_count": 36,
   "metadata": {},
   "outputs": [
    {
     "data": {
      "text/plain": [
       "<function matplotlib.pyplot.show(close=None, block=None)>"
      ]
     },
     "execution_count": 36,
     "metadata": {},
     "output_type": "execute_result"
    },
    {
     "data": {
      "image/png": "[encoded data removed]",
      "text/plain": [
       "<Figure size 432x288 with 1 Axes>"
      ]
     },
     "metadata": {
      "needs_background": "light"
     },
     "output_type": "display_data"
    }
   ],
   "source": [
    "plt.plot(X,Y,'rx')\n",
    "plt.xlabel(\"Population of city in 10000s\")\n",
    "plt.ylabel(\"Profit in $10000s\")\n",
    "plt.show\n",
    "##This graph shows us how your data is distributed. "
   ]
  },
  {
   "cell_type": "code",
   "execution_count": 37,
   "metadata": {},
   "outputs": [],
   "source": [
    "X = np.append(np.ones([m,1]), X.reshape(m,1),axis = 1) #Adding ones to vector X and reshape\n",
    "\n",
    "Y = Y.reshape(m,1)\n",
    "\n",
    "theta = np.zeros([2,1])"
   ]
  },
  {
   "cell_type": "code",
   "execution_count": 38,
   "metadata": {},
   "outputs": [],
   "source": [
    "def costComputation(X,Y,theta):\n",
    "    \"\"\"Compute cost for linear regression\"\"\"\n",
    "    import numpy as np\n",
    "    \n",
    "    m = len(Y)\n",
    "    \n",
    "    \n",
    "    pred = X.dot(theta) #Prediction of hypothesis on all m examples\n",
    "    \n",
    "    #error = np.square(np.subtract(Y, pred)) #Calculation off error--- (Hyptothesis-y)^2\n",
    "    \n",
    "    #J = 1/(2*m)*error.sum()\n",
    "    J = 1/(2*m)*(np.sum((pred-Y)**2))\n",
    "    return J\n",
    "\n",
    "          "
   ]
  },
  {
   "cell_type": "code",
   "execution_count": 39,
   "metadata": {},
   "outputs": [
    {
     "name": "stdout",
     "output_type": "stream",
     "text": [
      "32.072733877455676\n"
     ]
    }
   ],
   "source": [
    "cost = costComputation(X,Y,theta)\n",
    "print(cost)\n"
   ]
  },
  {
   "cell_type": "code",
   "execution_count": 40,
   "metadata": {},
   "outputs": [
    {
     "name": "stdout",
     "output_type": "stream",
     "text": [
      "54.24245508201238\n"
     ]
    }
   ],
   "source": [
    "theta1= np.array([[-1],[2]])\n",
    "print(costComputation(X,Y,theta1))"
   ]
  },
  {
   "cell_type": "code",
   "execution_count": 41,
   "metadata": {},
   "outputs": [
    {
     "name": "stdout",
     "output_type": "stream",
     "text": [
      "[[-3.63029144]\n",
      " [ 1.16636235]]\n"
     ]
    }
   ],
   "source": [
    "def gradientDescent(X, Y, theta, alpha, iter):\n",
    "    '''\n",
    "    This function takes in the training data, the intial theta values(coefficients), the learning rate, \n",
    "    and the number of iterations. The output will be the a new set of coefficeient of the linear regression (theta),\n",
    "    optimized for making predictions.\n",
    "    '''\n",
    "    \n",
    "    J_history = []## Array for storing the cost values on each iteration.\n",
    "    m = len(Y)## This is the length of the training set\n",
    "    \n",
    "    for i in range(iter): ## Loop for 1500 iterations\n",
    "        h = X.dot(theta) ## The hypothesis\n",
    "        theta = theta - (alpha/m)*(X.T.dot(h-Y))   #Gradient descent function\n",
    "        J_history.append(costComputation(X, Y, theta))  #Append the cost to the J_history array\n",
    "    return theta, J_history     #return the final values of theta and the J_history array\n",
    "\n",
    "\n",
    "iter = 1500 ## Initialize the iteration parameter.\n",
    "alpha = 0.01 ## Initialize the learning rate.\n",
    "\n",
    "## Call the function and pass in the parameters to compute new coefficient values.\n",
    "new_theta, J_history = gradientDescent(X, Y, theta, alpha, iter) \n",
    "\n",
    "print(new_theta)"
   ]
  },
  {
   "cell_type": "code",
   "execution_count": 42,
   "metadata": {},
   "outputs": [
    {
     "name": "stdout",
     "output_type": "stream",
     "text": [
      "4.483388256587725\n"
     ]
    }
   ],
   "source": [
    "new_cost = costComputation(X,Y,new_theta)\n",
    "\n",
    "print(new_cost)\n",
    "\n",
    "#Calculate new cost by using new theta"
   ]
  },
  {
   "cell_type": "code",
   "execution_count": 43,
   "metadata": {},
   "outputs": [
    {
     "data": {
      "text/plain": [
       "Text(0.5, 1.0, 'Training Data with Linear Regression Fit')"
      ]
     },
     "execution_count": 43,
     "metadata": {},
     "output_type": "execute_result"
    },
    {
     "data": {
      "image/png": "[encoded data removed]",
      "text/plain": [
       "<Figure size 432x288 with 1 Axes>"
      ]
     },
     "metadata": {
      "needs_background": "light"
     },
     "output_type": "display_data"
    }
   ],
   "source": [
    "plt.plot(X[:,1],Y,'rx',label='Training data')\n",
    "plt.plot(X[:,1].reshape([m,1]), np.dot(X, new_theta), label='Linear Regression')\n",
    "plt.ylabel('Profit in 10,000s')\n",
    "plt.xlabel('Population of City in 10,000s')\n",
    "plt.legend()\n",
    "plt.title('Training Data with Linear Regression Fit')"
   ]
  },
  {
   "cell_type": "code",
   "execution_count": 44,
   "metadata": {},
   "outputs": [],
   "source": [
    "def prediction(X,new_theta):\n",
    "    \"\"\"\n",
    "    This function help us for prediction.\n",
    "    \"\"\"\n",
    "    pred = np.dot(X,new_theta)*10000\n",
    "    \n",
    "    return pred"
   ]
  },
  {
   "cell_type": "code",
   "execution_count": 45,
   "metadata": {},
   "outputs": [
    {
     "name": "stdout",
     "output_type": "stream",
     "text": [
      "For population of 35000 we predict a profit of 4519.7678677017675\n",
      "For population of 70000 we predict a profit of 45342.45012944714\n"
     ]
    }
   ],
   "source": [
    "FirsCity = 35000\n",
    "SecondCity = 70000\n",
    "predict1 = (prediction(([1, 3.5]),(new_theta)))\n",
    "predict2 = (prediction(([1, 7]),(new_theta)))\n",
    "\n",
    "print(f\"For population of {FirsCity} we predict a profit of\",float(predict1))\n",
    "print(f\"For population of {SecondCity} we predict a profit of\",float(predict2))"
   ]
  },
  {
   "cell_type": "code",
   "execution_count": null,
   "metadata": {},
   "outputs": [],
   "source": []
  }
 ],
 "metadata": {
  "kernelspec": {
   "display_name": "Python 3",
   "language": "python",
   "name": "python3"
  },
  "language_info": {
   "codemirror_mode": {
    "name": "ipython",
    "version": 3
   },
   "file_extension": ".py",
   "mimetype": "text/x-python",
   "name": "python",
   "nbconvert_exporter": "python",
   "pygments_lexer": "ipython3",
   "version": "3.8.5"
  }
 },
 "nbformat": 4,
 "nbformat_minor": 4
}
