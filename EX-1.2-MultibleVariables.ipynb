{
 "cells": [
  {
   "cell_type": "markdown",
   "metadata": {},
   "source": [
    "# Linear Regression Problem Multible Variables"
   ]
  },
  {
   "cell_type": "code",
   "execution_count": 2,
   "metadata": {},
   "outputs": [],
   "source": [
    "import pandas as pd\n",
    "import numpy as np\n",
    "\n",
    "import matplotlib.pyplot as plt\n",
    "import seaborn as sns"
   ]
  },
  {
   "cell_type": "code",
   "execution_count": 3,
   "metadata": {},
   "outputs": [
    {
     "data": {
      "text/html": [
       "<div>\n",
       "<style scoped>\n",
       "    .dataframe tbody tr th:only-of-type {\n",
       "        vertical-align: middle;\n",
       "    }\n",
       "\n",
       "    .dataframe tbody tr th {\n",
       "        vertical-align: top;\n",
       "    }\n",
       "\n",
       "    .dataframe thead th {\n",
       "        text-align: right;\n",
       "    }\n",
       "</style>\n",
       "<table border=\"1\" class=\"dataframe\">\n",
       "  <thead>\n",
       "    <tr style=\"text-align: right;\">\n",
       "      <th></th>\n",
       "      <th>Size of House</th>\n",
       "      <th>Number of bedrooms</th>\n",
       "      <th>Price of the House</th>\n",
       "    </tr>\n",
       "  </thead>\n",
       "  <tbody>\n",
       "    <tr>\n",
       "      <th>0</th>\n",
       "      <td>2104</td>\n",
       "      <td>3</td>\n",
       "      <td>399900</td>\n",
       "    </tr>\n",
       "    <tr>\n",
       "      <th>1</th>\n",
       "      <td>1600</td>\n",
       "      <td>3</td>\n",
       "      <td>329900</td>\n",
       "    </tr>\n",
       "    <tr>\n",
       "      <th>2</th>\n",
       "      <td>2400</td>\n",
       "      <td>3</td>\n",
       "      <td>369000</td>\n",
       "    </tr>\n",
       "    <tr>\n",
       "      <th>3</th>\n",
       "      <td>1416</td>\n",
       "      <td>2</td>\n",
       "      <td>232000</td>\n",
       "    </tr>\n",
       "    <tr>\n",
       "      <th>4</th>\n",
       "      <td>3000</td>\n",
       "      <td>4</td>\n",
       "      <td>539900</td>\n",
       "    </tr>\n",
       "  </tbody>\n",
       "</table>\n",
       "</div>"
      ],
      "text/plain": [
       "   Size of House  Number of bedrooms  Price of the House\n",
       "0           2104                   3              399900\n",
       "1           1600                   3              329900\n",
       "2           2400                   3              369000\n",
       "3           1416                   2              232000\n",
       "4           3000                   4              539900"
      ]
     },
     "execution_count": 3,
     "metadata": {},
     "output_type": "execute_result"
    }
   ],
   "source": [
    "data = pd.read_csv(\"ex1data2.txt\", names = [\"Size of House\",\"Number of bedrooms\",\"Price of the House\"])\n",
    "data.head()"
   ]
  },
  {
   "cell_type": "code",
   "execution_count": 4,
   "metadata": {},
   "outputs": [],
   "source": [
    "X = data.iloc[:,:2]\n",
    "y = data.iloc[:,2:]\n",
    "m=len(y)"
   ]
  },
  {
   "cell_type": "code",
   "execution_count": 5,
   "metadata": {},
   "outputs": [
    {
     "data": {
      "text/html": [
       "<div>\n",
       "<style scoped>\n",
       "    .dataframe tbody tr th:only-of-type {\n",
       "        vertical-align: middle;\n",
       "    }\n",
       "\n",
       "    .dataframe tbody tr th {\n",
       "        vertical-align: top;\n",
       "    }\n",
       "\n",
       "    .dataframe thead th {\n",
       "        text-align: right;\n",
       "    }\n",
       "</style>\n",
       "<table border=\"1\" class=\"dataframe\">\n",
       "  <thead>\n",
       "    <tr style=\"text-align: right;\">\n",
       "      <th></th>\n",
       "      <th>Price of the House</th>\n",
       "    </tr>\n",
       "  </thead>\n",
       "  <tbody>\n",
       "    <tr>\n",
       "      <th>42</th>\n",
       "      <td>314000</td>\n",
       "    </tr>\n",
       "    <tr>\n",
       "      <th>43</th>\n",
       "      <td>299000</td>\n",
       "    </tr>\n",
       "    <tr>\n",
       "      <th>44</th>\n",
       "      <td>179900</td>\n",
       "    </tr>\n",
       "    <tr>\n",
       "      <th>45</th>\n",
       "      <td>299900</td>\n",
       "    </tr>\n",
       "    <tr>\n",
       "      <th>46</th>\n",
       "      <td>239500</td>\n",
       "    </tr>\n",
       "  </tbody>\n",
       "</table>\n",
       "</div>"
      ],
      "text/plain": [
       "    Price of the House\n",
       "42              314000\n",
       "43              299000\n",
       "44              179900\n",
       "45              299900\n",
       "46              239500"
      ]
     },
     "execution_count": 5,
     "metadata": {},
     "output_type": "execute_result"
    }
   ],
   "source": [
    "y.tail()"
   ]
  },
  {
   "cell_type": "code",
   "execution_count": 6,
   "metadata": {},
   "outputs": [],
   "source": [
    "def FeatureNormalize(X):\n",
    "    \"\"\"\n",
    "    For better solution we are using this method.We will use the function below to normalize our features. \n",
    "    The method we use is to subtract each feature from its mean and then divide by its standard deviation.\n",
    "    \n",
    "    \"\"\"\n",
    "    \n",
    "    \n",
    "    Xnorm = (X-np.mean(X))/np.std(X) ## scaling\n",
    "    mu = np.mean(X)\n",
    "    sigma = np.std(X)\n",
    "    \n",
    "    return Xnorm, mu, sigma ##Our values\n",
    "        "
   ]
  },
  {
   "cell_type": "code",
   "execution_count": 7,
   "metadata": {},
   "outputs": [],
   "source": [
    "X, mean, std = FeatureNormalize(X)"
   ]
  },
  {
   "cell_type": "code",
   "execution_count": 8,
   "metadata": {},
   "outputs": [],
   "source": [
    "# Adding ones columns to X and reshape X and y and choose initial values of theta\n",
    "X = np.append(np.ones([m,1]),X ,axis=1)\n",
    "y = np.array(y).reshape(-1,1)\n",
    "theta = np.zeros([3,1])"
   ]
  },
  {
   "cell_type": "code",
   "execution_count": 9,
   "metadata": {},
   "outputs": [],
   "source": [
    "def costComputationMulti(X,y,theta):\n",
    "    \"\"\"Compute cost for linear regression with multiple variables\"\"\"\n",
    "    \n",
    "    \n",
    "    m = len(y)\n",
    "    \n",
    "    \n",
    "    pred = X.dot(theta) #Prediction of hypothesis on all m examples\n",
    "    \n",
    "    J = 1/(2*m)*(np.sum((pred-y)**2))\n",
    "    \n",
    "    return J\n"
   ]
  },
  {
   "cell_type": "code",
   "execution_count": 12,
   "metadata": {},
   "outputs": [
    {
     "name": "stdout",
     "output_type": "stream",
     "text": [
      "Our current cost is 65591548106.45744\n"
     ]
    }
   ],
   "source": [
    "costml = costComputationMulti(X,y,theta)\n",
    "\n",
    "print(f\"Our current cost is {costml}\")"
   ]
  },
  {
   "cell_type": "code",
   "execution_count": 13,
   "metadata": {},
   "outputs": [],
   "source": [
    "def gradientDescentmulti(X, y, theta, alpha, iter):\n",
    "    '''\n",
    "    This function takes in the training data, the intial theta values(coefficients), the learning rate, \n",
    "    and the number of iterations. The output will be the a new set of coefficeient of the linear regression (theta),\n",
    "    optimized for making predictions.\n",
    "    '''\n",
    "    \n",
    "    J_history = []## Array for storing the cost values on each iteration.\n",
    "    m = len(y)## This is the length of the training set\n",
    "    \n",
    "    for i in range(iter): ## Loop for 400 iterations\n",
    "        h = X.dot(theta) ## The hypothesis\n",
    "        theta = theta - (alpha/m)*(X.T.dot(h-y))   #Gradient descent function\n",
    "        J_history.append(costComputationMulti(X, y, theta))  #Append the cost to the J_history array\n",
    "    return theta, J_history     #return the final values of theta and the J_history array\n",
    "\n"
   ]
  },
  {
   "cell_type": "code",
   "execution_count": 16,
   "metadata": {},
   "outputs": [
    {
     "name": "stdout",
     "output_type": "stream",
     "text": [
      "Our new theta values is equal to :[[334302.06399328]\n",
      " [ 99411.44947359]\n",
      " [  3267.01285407]]\n"
     ]
    }
   ],
   "source": [
    "iter = 400 ## Initialize the iteration parameter.\n",
    "alpha = 0.01 ## Initialize the learning rate.\n",
    "\n",
    "## Call the function and pass in the parameters to compute new coefficient values.\n",
    "new_theta, J_history = gradientDescentmulti(X, y, theta, alpha, iter) \n",
    "\n",
    "print(f\"Our new theta values is equal to :{new_theta}\")"
   ]
  },
  {
   "cell_type": "code",
   "execution_count": 17,
   "metadata": {},
   "outputs": [
    {
     "name": "stdout",
     "output_type": "stream",
     "text": [
      "Our new cost value is equal to 2105448288.6292474\n"
     ]
    }
   ],
   "source": [
    "cost_new = costComputationMulti(X,y,new_theta)\n",
    "\n",
    "print(f\"Our new cost value is equal to {cost_new}\")"
   ]
  },
  {
   "cell_type": "code",
   "execution_count": 18,
   "metadata": {},
   "outputs": [
    {
     "data": {
      "text/plain": [
       "Text(0.5, 1.0, 'Min. Cost Using Gradient Descent')"
      ]
     },
     "execution_count": 18,
     "metadata": {},
     "output_type": "execute_result"
    },
    {
     "data": {
      "image/png": "[encoded data removed]",
      "text/plain": [
       "<Figure size 432x288 with 1 Axes>"
      ]
     },
     "metadata": {
      "needs_background": "light"
     },
     "output_type": "display_data"
    }
   ],
   "source": [
    "plt.plot(J_history)\n",
    "plt.ylabel(\"Cost\")\n",
    "plt.xlabel(\"Number of iterations\")\n",
    "plt.title('Min. Cost Using Gradient Descent')\n"
   ]
  },
  {
   "cell_type": "markdown",
   "metadata": {},
   "source": [
    "This above graph shows us how our cost is changing according to do iteration. \n",
    "After the 200th iterations then it kind of flattened out. \n",
    "This also proves the gradient descent algorithm performed well. "
   ]
  },
  {
   "cell_type": "code",
   "execution_count": 21,
   "metadata": {},
   "outputs": [],
   "source": [
    "theta1, J_history1 = gradientDescentmulti(X, y, theta, 0.3, 50)\n",
    "theta2, J_history2 = gradientDescentmulti(X, y, theta, 0.1, 50)\n",
    "theta3, J_history3 = gradientDescentmulti(X, y, theta, 0.04, 50)\n",
    "theta4, J_history4 = gradientDescentmulti(X, y, theta, 0.01, 50)\n",
    "theta5, J_history5 = gradientDescentmulti(X, y, theta, 0.5, 50)"
   ]
  },
  {
   "cell_type": "code",
   "execution_count": 22,
   "metadata": {},
   "outputs": [
    {
     "data": {
      "text/plain": [
       "<matplotlib.legend.Legend at 0x1df20a84670>"
      ]
     },
     "execution_count": 22,
     "metadata": {},
     "output_type": "execute_result"
    },
    {
     "data": {
      "image/png": "[encoded data removed]",
      "text/plain": [
       "<Figure size 432x288 with 1 Axes>"
      ]
     },
     "metadata": {
      "needs_background": "light"
     },
     "output_type": "display_data"
    }
   ],
   "source": [
    "plt.plot(J_history1, label=\"0.3\")\n",
    "plt.plot(J_history2, label=\"0.1\")\n",
    "plt.plot(J_history3, label=\"0.04\")\n",
    "plt.plot(J_history4, label=\"0.01\")\n",
    "plt.plot(J_history5, label=\"0.5\")\n",
    "plt.title(\"Testing Different Learning rates\")\n",
    "plt.xlabel(\"Number of iterations\")\n",
    "plt.ylabel(\"Cost\")\n",
    "plt.legend(bbox_to_anchor=(1.25, 1.0))"
   ]
  },
  {
   "cell_type": "markdown",
   "metadata": {},
   "source": [
    "The graph shows that the curve in purple, which represents a learning rate of 0.5 converges faster than all the other curves. Therefore the best learning rate for this model is 0.5."
   ]
  },
  {
   "cell_type": "code",
   "execution_count": 23,
   "metadata": {},
   "outputs": [
    {
     "name": "stdout",
     "output_type": "stream",
     "text": [
      "[[340412.65957447]\n",
      " [109447.79646964]\n",
      " [ -6578.35485416]]\n"
     ]
    }
   ],
   "source": [
    "## Best learning rate is 0.5 and we'll use it\n",
    "\n",
    "theta , J_history = gradientDescentmulti(X,y,theta,0.5,1500)\n",
    "\n",
    "print(theta)"
   ]
  },
  {
   "cell_type": "code",
   "execution_count": 24,
   "metadata": {},
   "outputs": [],
   "source": [
    "## Prediction\n",
    "## We will predict a house with an 1650 sq feet and 3 bedrooms.\n",
    "X = np.array ([1650, 3])"
   ]
  },
  {
   "cell_type": "code",
   "execution_count": 25,
   "metadata": {},
   "outputs": [],
   "source": [
    "X = (X-mean)/std"
   ]
  },
  {
   "cell_type": "code",
   "execution_count": 26,
   "metadata": {},
   "outputs": [],
   "source": [
    "X = np.append(1,X)"
   ]
  },
  {
   "cell_type": "code",
   "execution_count": 27,
   "metadata": {},
   "outputs": [
    {
     "name": "stdout",
     "output_type": "stream",
     "text": [
      "[[ 1.         -0.44604386 -0.22609337]]\n"
     ]
    }
   ],
   "source": [
    "X = np.reshape(X, (1,3))\n",
    "print(X)"
   ]
  },
  {
   "cell_type": "code",
   "execution_count": 28,
   "metadata": {},
   "outputs": [],
   "source": [
    "def predict(X,theta):\n",
    "    \"\"\"This func. help us for prediction the price of house \"\"\"\n",
    "    return np.dot(X,theta)"
   ]
  },
  {
   "cell_type": "code",
   "execution_count": 33,
   "metadata": {},
   "outputs": [
    {
     "name": "stdout",
     "output_type": "stream",
     "text": [
      "This our prediction of a house with an 1650 sq feet and 3 bedrooms : 293081.4643348961 USD\n"
     ]
    }
   ],
   "source": [
    "p = predict(X,theta)\n",
    "print(f\"This our prediction of a house with an 1650 sq feet and 3 bedrooms : {float(p)} USD\")"
   ]
  },
  {
   "cell_type": "code",
   "execution_count": null,
   "metadata": {},
   "outputs": [],
   "source": []
  },
  {
   "cell_type": "code",
   "execution_count": null,
   "metadata": {},
   "outputs": [],
   "source": []
  }
 ],
 "metadata": {
  "kernelspec": {
   "display_name": "Python 3",
   "language": "python",
   "name": "python3"
  },
  "language_info": {
   "codemirror_mode": {
    "name": "ipython",
    "version": 3
   },
   "file_extension": ".py",
   "mimetype": "text/x-python",
   "name": "python",
   "nbconvert_exporter": "python",
   "pygments_lexer": "ipython3",
   "version": "3.8.5"
  }
 },
 "nbformat": 4,
 "nbformat_minor": 4
}
